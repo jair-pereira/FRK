{
 "cells": [
  {
   "cell_type": "code",
   "execution_count": 21,
   "metadata": {},
   "outputs": [],
   "source": [
    "import cocoex\n",
    "import datetime\n",
    "from metaheuristic import *"
   ]
  },
  {
   "cell_type": "code",
   "execution_count": 19,
   "metadata": {},
   "outputs": [
    {
     "name": "stdout",
     "output_type": "stream",
     "text": [
      "0:00:24.017175\n"
     ]
    }
   ],
   "source": [
    "suite = cocoex.Suite(\"bbob\", \"\", \"function_indices:1 dimensions:40 instance_indices:1\")\n",
    "for problem in suite:\n",
    "    #initialize the problem MH\n",
    "    Solution.setProblem(problem, (problem.lower_bounds[0], problem.upper_bounds[0]), problem.dimension, maximize=False)\n",
    "    X = Solution.initialize(n=1000)\n",
    "    [Xi.setX(op.init_random(*Solution.bounds, Solution.dimension)) for Xi in X]\n",
    "    [Xi.getFitness() for Xi in X]\n",
    "#     S1 = op.select_random(X)\n",
    "#     S2 = op.select_random(X)\n",
    "#     S3 = op.select_random(X)\n",
    "    \n",
    "    #operator\n",
    "    time_i = datetime.datetime.now()\n",
    "    for _ in range(10):\n",
    "        op.select_tournament(X, n=1, k=int(1000*0.2))\n",
    "    time_f = datetime.datetime.now() - time_i\n",
    "    \n",
    "print(time_f)"
   ]
  },
  {
   "cell_type": "code",
   "execution_count": 16,
   "metadata": {},
   "outputs": [
    {
     "data": {
      "text/plain": [
       "(True, 50000.0)"
      ]
     },
     "execution_count": 16,
     "metadata": {},
     "output_type": "execute_result"
    }
   ],
   "source": []
  },
  {
   "cell_type": "code",
   "execution_count": 3,
   "metadata": {},
   "outputs": [],
   "source": [
    "## variation ##\n",
    "# op.w_crx_blend2(S1, S2, alpha=0.5)\n",
    "# op.w_crx_exp2(S1, S2, pr=0.8)\n",
    "# op.w_crx_uni2(S1, S2, pr=0.8)\n",
    "\n",
    "# op.w_mut_uni(S1, pr=0.8)\n",
    "# op.w_pso(S1, w=0.5, c1=0.1, c2=1.7)\n",
    "# op.w_levy_flight(S1)\n",
    "\n",
    "# op.w_mut_de(S1, S2, S3, beta=0.8)\n",
    "\n",
    "## selection ##\n",
    "# op.select_random(X)\n",
    "# op.select_current(X)\n",
    "# op.select_tournament(X, n=1, k=int(1e+4*0.2))\n",
    "# for _ in range(20):\n",
    "#         op.select_tournament(X, n=1, k=int(500*0.1))\n"
   ]
  },
  {
   "cell_type": "code",
   "execution_count": null,
   "metadata": {},
   "outputs": [],
   "source": [
    "# [np.random.choice(X, n, replace=False) for _ in range(len(X))]"
   ]
  },
  {
   "cell_type": "code",
   "execution_count": 28,
   "metadata": {},
   "outputs": [
    {
     "data": {
      "text/plain": [
       "<cocoex.interface.Problem(), id='bbob_f001_i01_d02'>"
      ]
     },
     "execution_count": 28,
     "metadata": {},
     "output_type": "execute_result"
    }
   ],
   "source": [
    "suite = cocoex.Suite(\"bbob\", \"\", \"function_indices:1 dimensions:2,3,5,10 instance_indices:1\")\n",
    "\n",
    "\n",
    "suite[0]"
   ]
  },
  {
   "cell_type": "code",
   "execution_count": 32,
   "metadata": {},
   "outputs": [
    {
     "data": {
      "text/plain": [
       "['2', '3', '4', '5']"
      ]
     },
     "execution_count": 32,
     "metadata": {},
     "output_type": "execute_result"
    }
   ],
   "source": [
    "s = \"2,3,4,5\"\n",
    "\n",
    "s.split(\",\")"
   ]
  },
  {
   "cell_type": "code",
   "execution_count": 64,
   "metadata": {},
   "outputs": [],
   "source": [
    "change = '5,5,10,11'.split(\",\")\n",
    "\n",
    "\n",
    "import numpy as np\n",
    "asa = sum([[i]*int(change[i]) for i in range(len(change))], []) \n"
   ]
  },
  {
   "cell_type": "code",
   "execution_count": 65,
   "metadata": {},
   "outputs": [
    {
     "data": {
      "text/plain": [
       "[0,\n",
       " 0,\n",
       " 0,\n",
       " 0,\n",
       " 0,\n",
       " 1,\n",
       " 1,\n",
       " 1,\n",
       " 1,\n",
       " 1,\n",
       " 2,\n",
       " 2,\n",
       " 2,\n",
       " 2,\n",
       " 2,\n",
       " 2,\n",
       " 2,\n",
       " 2,\n",
       " 2,\n",
       " 2,\n",
       " 3,\n",
       " 3,\n",
       " 3,\n",
       " 3,\n",
       " 3,\n",
       " 3,\n",
       " 3,\n",
       " 3,\n",
       " 3,\n",
       " 3,\n",
       " 3]"
      ]
     },
     "execution_count": 65,
     "metadata": {},
     "output_type": "execute_result"
    }
   ],
   "source": [
    "asa"
   ]
  }
 ],
 "metadata": {
  "kernelspec": {
   "display_name": "Python 3",
   "language": "python",
   "name": "python3"
  },
  "language_info": {
   "codemirror_mode": {
    "name": "ipython",
    "version": 3
   },
   "file_extension": ".py",
   "mimetype": "text/x-python",
   "name": "python",
   "nbconvert_exporter": "python",
   "pygments_lexer": "ipython3",
   "version": "3.6.6"
  }
 },
 "nbformat": 4,
 "nbformat_minor": 2
}
