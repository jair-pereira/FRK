{
 "cells": [
  {
   "cell_type": "code",
   "execution_count": 1,
   "metadata": {},
   "outputs": [],
   "source": [
    "import cocoex\n",
    "import datetime\n",
    "import numpy as np\n",
    "from metaheuristic import *"
   ]
  },
  {
   "cell_type": "code",
   "execution_count": 2,
   "metadata": {},
   "outputs": [],
   "source": [
    "suite = cocoex.Suite(\"bbob\", \"\", \"function_indices:1 dimensions:40 instance_indices:1\")\n",
    "problem = suite[0]"
   ]
  },
  {
   "cell_type": "code",
   "execution_count": 3,
   "metadata": {},
   "outputs": [
    {
     "data": {
      "text/plain": [
       "0"
      ]
     },
     "execution_count": 3,
     "metadata": {},
     "output_type": "execute_result"
    }
   ],
   "source": [
    "#initialize the problem MH\n",
    "Solution.setProblem(problem, (problem.lower_bounds[0], problem.upper_bounds[0]), problem.dimension, maximize=False)\n",
    "X = Solution.initialize(n=1000)\n",
    "[Xi.setX(op.init_random(*Solution.bounds, Solution.dimension)) for Xi in X]\n",
    "[Xi.getFitness() for Xi in X]\n",
    "0"
   ]
  },
  {
   "cell_type": "code",
   "execution_count": 6,
   "metadata": {},
   "outputs": [
    {
     "name": "stdout",
     "output_type": "stream",
     "text": [
      "0:00:00.093671\n"
     ]
    }
   ],
   "source": [
    "time_i = datetime.datetime.now()\n",
    "S1 = op.select_random(X)\n",
    "time_f = datetime.datetime.now() - time_i\n",
    "S2 = op.select_random(X)\n",
    "#     S3 = op.select_random(X)\n",
    "print(time_f)"
   ]
  },
  {
   "cell_type": "code",
   "execution_count": 63,
   "metadata": {},
   "outputs": [
    {
     "name": "stdout",
     "output_type": "stream",
     "text": [
      "0:00:00.017188\n"
     ]
    }
   ],
   "source": [
    "time_i = datetime.datetime.now()\n",
    "S = np.array([np.random.choice(X, 1) for _ in range(len(X))])\n",
    "time_f = datetime.datetime.now() - time_i\n",
    "print(time_f)"
   ]
  },
  {
   "cell_type": "code",
   "execution_count": null,
   "metadata": {},
   "outputs": [],
   "source": [
    "time_i = datetime.datetime.now()\n",
    "S = np.array([np.random.choice(X, 1, replace=False) for _ in range(len(X))])\n",
    "time_f = datetime.datetime.now() - time_i\n",
    "print(time_f)"
   ]
  },
  {
   "cell_type": "code",
   "execution_count": 13,
   "metadata": {},
   "outputs": [
    {
     "name": "stdout",
     "output_type": "stream",
     "text": [
      "0:00:00.649388\n"
     ]
    }
   ],
   "source": [
    "#operator\n",
    "time_i = datetime.datetime.now()\n",
    "for _ in range(10):\n",
    "    op.w_crx_uni2(S1, S2, pr=0.8)\n",
    "time_f = datetime.datetime.now() - time_i\n",
    "\n",
    "print(time_f)"
   ]
  },
  {
   "cell_type": "code",
   "execution_count": 3,
   "metadata": {},
   "outputs": [],
   "source": [
    "## variation ##\n",
    "# op.w_crx_blend2(S1, S2, alpha=0.5)\n",
    "# op.w_crx_exp2(S1, S2, pr=0.8)\n",
    "# op.w_crx_uni2(S1, S2, pr=0.8)\n",
    "\n",
    "# op.w_mut_uni(S1, pr=0.8)\n",
    "# op.w_pso(S1, w=0.5, c1=0.1, c2=1.7)\n",
    "# op.w_levy_flight(S1)\n",
    "\n",
    "# op.w_mut_de(S1, S2, S3, beta=0.8)\n",
    "\n",
    "## selection ##\n",
    "# op.select_random(X)\n",
    "# op.select_current(X)\n",
    "# op.select_tournament(X, n=1, k=int(1e+4*0.2))\n",
    "# for _ in range(20):\n",
    "#         op.select_tournament(X, n=1, k=int(500*0.1))\n"
   ]
  },
  {
   "cell_type": "code",
   "execution_count": null,
   "metadata": {},
   "outputs": [],
   "source": [
    "# [np.random.choice(X, n, replace=False) for _ in range(len(X))]"
   ]
  },
  {
   "cell_type": "code",
   "execution_count": 28,
   "metadata": {},
   "outputs": [
    {
     "data": {
      "text/plain": [
       "<cocoex.interface.Problem(), id='bbob_f001_i01_d02'>"
      ]
     },
     "execution_count": 28,
     "metadata": {},
     "output_type": "execute_result"
    }
   ],
   "source": []
  },
  {
   "cell_type": "code",
   "execution_count": 66,
   "metadata": {},
   "outputs": [
    {
     "data": {
      "text/plain": [
       "(511.94964705571863, 615.2025633853928)"
      ]
     },
     "execution_count": 66,
     "metadata": {},
     "output_type": "execute_result"
    }
   ],
   "source": [
    "X[0].getFitness(), X[1].getFitness()"
   ]
  },
  {
   "cell_type": "code",
   "execution_count": 67,
   "metadata": {},
   "outputs": [
    {
     "data": {
      "text/plain": [
       "True"
      ]
     },
     "execution_count": 67,
     "metadata": {},
     "output_type": "execute_result"
    }
   ],
   "source": [
    "X[0] > X[1]"
   ]
  },
  {
   "cell_type": "code",
   "execution_count": 36,
   "metadata": {},
   "outputs": [],
   "source": [
    "dim = \"5\".split(\",\")\n",
    "idx = sum([[i]*int(dim[i]) for i in range(len(dim))], [])\n",
    "\n"
   ]
  },
  {
   "cell_type": "code",
   "execution_count": 40,
   "metadata": {},
   "outputs": [
    {
     "data": {
      "text/plain": [
       "<cocoex.interface.Problem(), id='bbob_f001_i01_d40'>"
      ]
     },
     "execution_count": 40,
     "metadata": {},
     "output_type": "execute_result"
    }
   ],
   "source": [
    "suite = cocoex.Suite(\"bbob\", \"\", \"function_indices:1 dimensions:40 instance_indices:1\")\n",
    "\n",
    "suite[idx[3]]"
   ]
  },
  {
   "cell_type": "code",
   "execution_count": 46,
   "metadata": {},
   "outputs": [
    {
     "data": {
      "text/plain": [
       "9000000.0"
      ]
     },
     "execution_count": 46,
     "metadata": {},
     "output_type": "execute_result"
    }
   ],
   "source": [
    "9e+6"
   ]
  },
  {
   "cell_type": "code",
   "execution_count": 61,
   "metadata": {},
   "outputs": [
    {
     "data": {
      "text/plain": [
       "0.3333333333333333"
      ]
     },
     "execution_count": 61,
     "metadata": {},
     "output_type": "execute_result"
    }
   ],
   "source": [
    "1e+4 * 5 * 20 * 30 / 9e+7"
   ]
  },
  {
   "cell_type": "code",
   "execution_count": 60,
   "metadata": {},
   "outputs": [
    {
     "data": {
      "text/plain": [
       "30000000.0"
      ]
     },
     "execution_count": 60,
     "metadata": {},
     "output_type": "execute_result"
    }
   ],
   "source": [
    "1e+4 * 5 * 20 * 30"
   ]
  },
  {
   "cell_type": "code",
   "execution_count": 64,
   "metadata": {},
   "outputs": [
    {
     "data": {
      "text/plain": [
       "9.0"
      ]
     },
     "execution_count": 64,
     "metadata": {},
     "output_type": "execute_result"
    }
   ],
   "source": [
    "18*0.5"
   ]
  }
 ],
 "metadata": {
  "kernelspec": {
   "display_name": "Python 3",
   "language": "python",
   "name": "python3"
  },
  "language_info": {
   "codemirror_mode": {
    "name": "ipython",
    "version": 3
   },
   "file_extension": ".py",
   "mimetype": "text/x-python",
   "name": "python",
   "nbconvert_exporter": "python",
   "pygments_lexer": "ipython3",
   "version": "3.6.6"
  }
 },
 "nbformat": 4,
 "nbformat_minor": 2
}
