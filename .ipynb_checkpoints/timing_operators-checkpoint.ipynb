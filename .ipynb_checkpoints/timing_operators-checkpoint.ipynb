{
 "cells": [
  {
   "cell_type": "code",
   "execution_count": 1,
   "metadata": {},
   "outputs": [],
   "source": [
    "import cocoex\n",
    "import datetime\n",
    "from metaheuristic import *"
   ]
  },
  {
   "cell_type": "code",
   "execution_count": null,
   "metadata": {},
   "outputs": [],
   "source": []
  },
  {
   "cell_type": "code",
   "execution_count": 3,
   "metadata": {},
   "outputs": [
    {
     "data": {
      "text/plain": [
       "datetime.timedelta(0, 0, 324956)"
      ]
     },
     "execution_count": 3,
     "metadata": {},
     "output_type": "execute_result"
    }
   ],
   "source": [
    "suite = cocoex.Suite(\"bbob\", \"\", \"function_indices:1 dimensions:40 instance_indices:1\")\n",
    "for problem in suite:\n",
    "    #initialize the problem MH\n",
    "    Solution.setProblem(problem, (problem.lower_bounds[0], problem.upper_bounds[0]), problem.dimension, maximize=False)\n",
    "    X = Solution.initialize(n=1e+4)\n",
    "    [Xi.setX(op.init_random(*Solution.bounds, Solution.dimension)) for Xi in X]\n",
    "    [Xi.getFitness() for Xi in X]\n",
    "    S1 = op.select_random(X)\n",
    "    S2 = op.select_random(X)\n",
    "    #S3 = op.select_random(X)\n",
    "    \n",
    "    #operator\n",
    "    time_i = datetime.datetime.now()\n",
    "    op.w_crx_blend2(S1, S2, alpha=0.5)\n",
    "    op.w_crx_exp2((S1, S2, pr=0.8)\n",
    "    op.w_crx_uni2\n",
    "    time_f = datetime.datetime.now() - time_i\n",
    "time_f"
   ]
  },
  {
   "cell_type": "code",
   "execution_count": 4,
   "metadata": {},
   "outputs": [
    {
     "name": "stdout",
     "output_type": "stream",
     "text": [
      "0:00:00.324956\n"
     ]
    }
   ],
   "source": [
    "op.w_crx_blend2(S1, S2, alpha=0.5)\n",
    "op.w_crx_exp2(S1, S2, pr=0.8)\n",
    "op.w_crx_uni2(S1, S2, pr=0.8)\n",
    "\n",
    "op.w_mut_uni(S1, pr=0.8)\n",
    "op.w_pso(S1, w=0.5, c1=0.1, c2=1.7)\n",
    "op.w_levy_flight(S1)\n",
    "\n",
    "op.w_mut_de(S1, S2, S3, beta=0.8)"
   ]
  },
  {
   "cell_type": "code",
   "execution_count": 6,
   "metadata": {},
   "outputs": [
    {
     "data": {
      "text/plain": [
       "0.324956"
      ]
     },
     "execution_count": 6,
     "metadata": {},
     "output_type": "execute_result"
    }
   ],
   "source": []
  },
  {
   "cell_type": "code",
   "execution_count": null,
   "metadata": {},
   "outputs": [],
   "source": []
  }
 ],
 "metadata": {
  "kernelspec": {
   "display_name": "Python 3",
   "language": "python",
   "name": "python3"
  },
  "language_info": {
   "codemirror_mode": {
    "name": "ipython",
    "version": 3
   },
   "file_extension": ".py",
   "mimetype": "text/x-python",
   "name": "python",
   "nbconvert_exporter": "python",
   "pygments_lexer": "ipython3",
   "version": "3.6.6"
  }
 },
 "nbformat": 4,
 "nbformat_minor": 2
}
