{
 "cells": [
  {
   "cell_type": "code",
   "execution_count": 62,
   "metadata": {},
   "outputs": [],
   "source": [
    "import numpy as np\n",
    "import pandas as pd\n",
    "\n",
    "def get_best_indv(experiment_name):\n",
    "    #load data\n",
    "    data_log = pd.read_csv(\"./\"+experiment_name+\"/history.csv\")\n",
    "    data_minfit = data_log[data_log['hh_fit'] == data_log['hh_fit'].min()]\n",
    "    \n",
    "    best_indv = data_minfit['gen'].max() \n",
    "    \n",
    "    file = open(\"./\"+experiment_name+\"/\"+str(best_indv)+\".txt\", 'r')\n",
    "    best = file.readlines()\n",
    "    file.close()\n",
    "    \n",
    "    return best, data_log['hh_fit'].min()\n",
    "\n",
    "def get_best_from_rep(experiment_name):\n",
    "    #load data\n",
    "    best_fit = 999999\n",
    "    best_code = []\n",
    "    rep = 0\n",
    "    for i in range(1, 11):\n",
    "        code, fit = get_best_indv(experiment_name+\"_\"+str(i))\n",
    "        print(i, fit)\n",
    "        \n",
    "        if best_fit >= fit:\n",
    "            best_fit = fit\n",
    "            best_code = code\n",
    "            rep = i\n",
    "    \n",
    "    return best_code, best_fit, rep"
   ]
  },
  {
   "cell_type": "code",
   "execution_count": 178,
   "metadata": {},
   "outputs": [
    {
     "name": "stdout",
     "output_type": "stream",
     "text": [
      "Generation:\n",
      "30\n",
      "\n",
      "Phenotype:\n",
      "import numpy as np\n",
      "from metaheuristic import *\n",
      "def ge(n, my_func, bounds, dimension, max_nfe):\n",
      "  Solution.setProblem(my_func, bounds, dimension, maximize=False)\n",
      "  Solution.repair = op.repair_truncate\n",
      "  X = Solution.initialize(n)\n",
      "  for Xi in X:    Xi.setX(op.init_random(*Solution.bounds, Solution.dimension))\n",
      "  [Xi.getFitness() for Xi in X]\n",
      "  Solution.updateHistory(X)\n",
      "  while Solution.nfe < max_nfe:\n",
      "    U = X\n",
      "    #Round 1\n",
      "    S1 = op.select_random(U, 1)\n",
      "    S2 = op.select_tournament(X, n=1, k=int(n*0.25))\n",
      "    S3 = op.select_random(U, 1)\n",
      "    U  = op.w_mut_de(S1, S2, S3, beta=0.50)\n",
      "    X  = U\n",
      "    #Round 2\n",
      "    S1 = op.select_current(U)\n",
      "    S2 = op.select_tournament(X, n=1, k=int(n*0.25))\n",
      "    U  = op.w_crx_blend2(S1, S2, alpha=0.00)\n",
      "    X  = U\n",
      "    [Xi.getFitness() for Xi in X]\n",
      "  return X\n",
      "ge(100, my_func, bounds, dimension, max_nfe)\n",
      "XXX_output_XXX = Solution.best.getFitness()\n",
      "\n",
      "Genotype:\n",
      "[883, 996, 709, 233, 486, 586, 686, 411, 696, 367, 847, 388, 218, 254, 867, 560, 365, 296, 880, 200, 972, 376, 430, 32, 489, 273, 847, 388, 218, 254, 882, 990, 294, 594, 996, 159, 173, 141, 237, 2, 393, 679, 376, 101, 200, 80, 567, 689, 599, 784]\n",
      "Tree:\n",
      "(<S> (<init> import numpy as np{::}from metaheuristic import *{::}def ge(n, my_func, bounds, dimension, max_nfe):{:Solution.setProblem(my_func, bounds, dimension, maximize=False){::}Solution.repair =  (<repair> (<repair_truncate> op.repair_truncate)) {::}X = Solution.initialize(n){::}for Xi in X:    Xi.setX(op.init_random(*Solution.bounds, Solution.dimension)){::}[Xi.getFitness() for Xi in X]{::}Solution.updateHistory(X){::}while Solution.nfe < max_nfe:{:{::}U = X{::} (<main> (<round> #Round 1{::} (<step> S1 =  (<select> (<select_random> op.select_random( (<X_or_U> U) , 1))) {::}S2 =  (<select> (<select_tournament> op.select_tournament( (<X_or_U> X) , n=1, k= (<k> int(n*0.25)) ))) {::}S3 =  (<select> (<select_random> op.select_random( (<X_or_U> U) , 1))) {::}U  =  (<operator3> (<op_mut_de> op.w_mut_de(S1, S2, S3, beta= (<beta> 0.50) ))) {::}X  =  (<output> (<update_all> U)) {::}) {::}#Round 2{::} (<last_step> S1 =  (<select> (<select_current> op.select_current( (<X_or_U> U) ))) {::}S2 =  (<select> (<select_tournament> op.select_tournament( (<X_or_U> X) , n=1, k= (<k> int(n*0.25)) ))) {::}U  =  (<operator2> (<op_crx_blend> op.w_crx_blend2(S1, S2, alpha= (<alpha> 0.00) ))) {::}X  =  (<output_last> (<update_all> U)) {::}))) {::}[Xi.getFitness() for Xi in X]:}{::}return X:}{::}) {::} (<call> ge( (<n> 100) , my_func, bounds, dimension, max_nfe){::}XXX_output_XXX = Solution.best.getFitness()))\n",
      "\n",
      "Fitness:\n",
      "-16.939999976316827\n"
     ]
    }
   ],
   "source": [
    "experiment_name = \"jpnsec_170105_10\"\n",
    "code, _ = get_best_indv(experiment_name)\n",
    "\n",
    "for line in code:\n",
    "    print(line.replace('\\n', ''))"
   ]
  },
  {
   "cell_type": "code",
   "execution_count": 190,
   "metadata": {},
   "outputs": [
    {
     "name": "stdout",
     "output_type": "stream",
     "text": [
      "1 -16.94\n",
      "2 -16.94\n",
      "3 -16.94\n",
      "4 -16.94\n",
      "5 -16.94\n",
      "6 -16.94\n",
      "7 -16.94\n",
      "8 -16.94\n",
      "9 -16.94\n",
      "10 -16.94\n",
      ">>best at 10\n",
      "Generation:\n",
      "30\n",
      "\n",
      "Phenotype:\n",
      "import numpy as np\n",
      "from metaheuristic import *\n",
      "def ge(n, my_func, bounds, dimension, max_nfe):\n",
      "  Solution.setProblem(my_func, bounds, dimension, maximize=False)\n",
      "  Solution.repair = op.repair_random\n",
      "  X = Solution.initialize(n)\n",
      "  for Xi in X:    Xi.setX(op.init_random(*Solution.bounds, Solution.dimension))\n",
      "  [Xi.getFitness() for Xi in X]\n",
      "  Solution.updateHistory(X)\n",
      "  while Solution.nfe < max_nfe:\n",
      "    U = X\n",
      "    #Round 1\n",
      "    S1 = op.select_current(X)\n",
      "    U = op.w_pso(S1, w=0.00, c1=0.00, c2=2.00)\n",
      "    X  = U\n",
      "    #Round 2\n",
      "    S1 = op.select_tournament(U, n=1, k=int(n*0.50))\n",
      "    S2 = op.select_current(X)\n",
      "    U  = op.w_crx_blend2(S1, S2, alpha=0.00)\n",
      "    X  = op.replace_if_random(X, U)\n",
      "    [Xi.getFitness() for Xi in X]\n",
      "  return X\n",
      "ge(100, my_func, bounds, dimension, max_nfe)\n",
      "XXX_output_XXX = Solution.best.getFitness()\n",
      "\n",
      "Genotype:\n",
      "[168, 555, 438, 148, 432, 358, 147, 74, 117, 194, 135, 90, 438, 942, 95, 988, 595, 742, 16, 790, 647, 669, 491, 202, 998, 306, 229, 690, 251, 67, 200, 949, 905, 722, 722, 725, 82, 307, 121, 282, 687, 249, 194, 358, 445, 604, 483, 653]\n",
      "Tree:\n",
      "(<S> (<init> import numpy as np{::}from metaheuristic import *{::}def ge(n, my_func, bounds, dimension, max_nfe):{:Solution.setProblem(my_func, bounds, dimension, maximize=False){::}Solution.repair =  (<repair> (<repair_random> op.repair_random)) {::}X = Solution.initialize(n){::}for Xi in X:    Xi.setX(op.init_random(*Solution.bounds, Solution.dimension)){::}[Xi.getFitness() for Xi in X]{::}Solution.updateHistory(X){::}while Solution.nfe < max_nfe:{:{::}U = X{::} (<main> (<round> #Round 1{::} (<step> S1 =  (<select> (<select_current> op.select_current( (<X_or_U> X) ))) {::}U =  (<operator1> (<op_pso> op.w_pso(S1, w= (<w> 0.00) , c1= (<c1> 0.00) , c2= (<c2> 2.00) ))) {::}X  =  (<output> (<update_all> U)) {::}) {::}#Round 2{::} (<last_step> S1 =  (<select> (<select_tournament> op.select_tournament( (<X_or_U> U) , n=1, k= (<k> int(n*0.50)) ))) {::}S2 =  (<select> (<select_current> op.select_current( (<X_or_U> X) ))) {::}U  =  (<operator2> (<op_crx_blend> op.w_crx_blend2(S1, S2, alpha= (<alpha> 0.00) ))) {::}X  =  (<output_last> (<update_better_than_random> op.replace_if_random(X, U))) {::}))) {::}[Xi.getFitness() for Xi in X]:}{::}return X:}{::}) {::} (<call> ge( (<n> 100) , my_func, bounds, dimension, max_nfe){::}XXX_output_XXX = Solution.best.getFitness()))\n",
      "\n",
      "Fitness:\n",
      "-16.94\n"
     ]
    }
   ],
   "source": [
    "experiment_name = \"jpnsec_170102\"\n",
    "code, _, rep = get_best_from_rep(experiment_name)\n",
    "\n",
    "\n",
    "print(\">>best at\", rep)\n",
    "for line in code:\n",
    "    print(line.replace('\\n', ''))"
   ]
  },
  {
   "cell_type": "code",
   "execution_count": null,
   "metadata": {},
   "outputs": [],
   "source": []
  },
  {
   "cell_type": "code",
   "execution_count": null,
   "metadata": {},
   "outputs": [],
   "source": []
  },
  {
   "cell_type": "code",
   "execution_count": null,
   "metadata": {},
   "outputs": [],
   "source": []
  }
 ],
 "metadata": {
  "kernelspec": {
   "display_name": "Python 3",
   "language": "python",
   "name": "python3"
  },
  "language_info": {
   "codemirror_mode": {
    "name": "ipython",
    "version": 3
   },
   "file_extension": ".py",
   "mimetype": "text/x-python",
   "name": "python",
   "nbconvert_exporter": "python",
   "pygments_lexer": "ipython3",
   "version": "3.6.6"
  }
 },
 "nbformat": 4,
 "nbformat_minor": 2
}
