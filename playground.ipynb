{
 "cells": [
  {
   "cell_type": "code",
   "execution_count": 1,
   "metadata": {},
   "outputs": [],
   "source": [
    "from metaheuristic import *\n",
    "import cocoex\n",
    "import time"
   ]
  },
  {
   "cell_type": "code",
   "execution_count": 2,
   "metadata": {},
   "outputs": [],
   "source": [
    "def de(n, my_func, bounds, dimension, max_nfe, beta, pr):\n",
    "    Solution.setProblem(my_func, bounds, dimension, maximize=False)\n",
    "    Solution.repair = op.repair_random\n",
    "    X = Solution.initialize(n)\n",
    "    [Xi.setX(op.init_random(*Solution.bounds, Solution.dimension)) for Xi in X]\n",
    "    [Xi.getFitness() for Xi in X]\n",
    "    \n",
    "    while Solution.nfe < max_nfe:\n",
    "        #Round 1\n",
    "        S1 = op.select_random(X, 1)\n",
    "        S2 = op.select_random(X, 1)\n",
    "        S3 = op.select_random(X, 1)\n",
    "        U  = op.w_mut_de(S1, S2, S3, beta)\n",
    "        #Round 2\n",
    "        S1 = op.select_current(X)\n",
    "        S2 = op.select_current(U)\n",
    "        U  = op.w_crx_exp2(S1, S2, pr)\n",
    "        X  = op.replace_if_best(X, U)\n",
    "        \n",
    "        [Xi.getFitness() for Xi in X]\n",
    "    return Solution"
   ]
  },
  {
   "cell_type": "code",
   "execution_count": 3,
   "metadata": {},
   "outputs": [],
   "source": [
    "def de2(n, my_func, bounds, dimension, max_nfe, beta, pr):\n",
    "    Solution.setProblem(my_func, bounds, dimension, maximize=False)\n",
    "    Solution.repair = op.repair_random\n",
    "    X = Solution.initialize(n)\n",
    "    [Xi.setX(op.init_random(*Solution.bounds, Solution.dimension)) for Xi in X]\n",
    "    [Xi.getFitness() for Xi in X]\n",
    "    \n",
    "    while Solution.nfe < max_nfe:\n",
    "        #Round 1\n",
    "        S1 = op.select_random_exclusive(X)\n",
    "        S2 = op.select_random_exclusive(X, S1)\n",
    "        S3 = op.select_random_exclusive(X, S1, S2)\n",
    "        U  = op.w_mut_de(S1, S2, S3, beta)\n",
    "        #Round 2\n",
    "        S1 = op.select_current(X)\n",
    "        S2 = op.select_current(U)\n",
    "        U  = op.w_crx_exp2(S1, S2, pr)\n",
    "        X  = op.replace_if_best(X, U)\n",
    "        \n",
    "        [Xi.getFitness() for Xi in X]\n",
    "    return Solution"
   ]
  },
  {
   "cell_type": "code",
   "execution_count": 4,
   "metadata": {},
   "outputs": [],
   "source": [
    "suite = cocoex.Suite(\"bbob\", \"\", \"function_indices:1 dimensions:10 instance_indices:1\")"
   ]
  },
  {
   "cell_type": "code",
   "execution_count": 5,
   "metadata": {},
   "outputs": [
    {
     "name": "stdout",
     "output_type": "stream",
     "text": [
      "88.413409948349 sec\n",
      "[90.94526715821229, 97.5300303941806, 93.31687116425636, 95.29245764756635, 93.13122279699556, 91.78666885359344, 89.7964643353465, 89.23374487004294, 86.87269189453053, 86.48012551030034, 93.784443194563, 89.18340866418978, 90.29646962876303, 93.69525272944895, 92.24132798962479, 92.25047449375622, 93.44262914783347, 92.57278542188848, 88.72641652275684, 87.74935105585143]\n"
     ]
    }
   ],
   "source": [
    "res = []\n",
    "start = time.time()\n",
    "for r in range(20):\n",
    "    for problem in suite:\n",
    "        r = de(1600, problem, (problem.lower_bounds[0], problem.upper_bounds[0]), problem.dimension, max_nfe=1e+4, beta=1.01, pr=0.93).best.getFitness()\n",
    "        res.append(r)\n",
    "        \n",
    "print(time.time() - start, \"sec\")\n",
    "print(res)"
   ]
  },
  {
   "cell_type": "code",
   "execution_count": 6,
   "metadata": {},
   "outputs": [
    {
     "name": "stdout",
     "output_type": "stream",
     "text": [
      "539.4537706375122 sec\n",
      "[87.24190669998431, 94.72614019725326, 95.61063774591778, 89.93055160738194, 88.87281722354965, 89.53488699157752, 93.94230829311533, 94.85895697614055, 88.2082397898442, 92.61416902160123, 86.30674509139483, 86.20710936942014, 95.31019039847362, 94.7994116799684, 92.0750690630409, 91.3207131238089, 85.79773811047329, 94.14452564846, 93.0330637219187, 95.15792971038879]\n"
     ]
    }
   ],
   "source": [
    "res2 = []\n",
    "start = time.time()\n",
    "for r in range(20):\n",
    "    for problem in suite:\n",
    "        r = de2(1600, problem, (problem.lower_bounds[0], problem.upper_bounds[0]), problem.dimension, max_nfe=1e+4, beta=1.01, pr=0.93).best.getFitness()\n",
    "        res2.append(r)\n",
    "        \n",
    "print(time.time() - start, \"sec\")\n",
    "print(res2)"
   ]
  },
  {
   "cell_type": "code",
   "execution_count": 11,
   "metadata": {},
   "outputs": [
    {
     "data": {
      "text/plain": [
       "(91.41640517368505, 91.48465552318568)"
      ]
     },
     "execution_count": 11,
     "metadata": {},
     "output_type": "execute_result"
    }
   ],
   "source": [
    "import numpy as np\n",
    "np.array(res).mean(), np.array(res2).mean()"
   ]
  },
  {
   "cell_type": "code",
   "execution_count": null,
   "metadata": {},
   "outputs": [],
   "source": []
  },
  {
   "cell_type": "code",
   "execution_count": null,
   "metadata": {},
   "outputs": [],
   "source": []
  },
  {
   "cell_type": "code",
   "execution_count": null,
   "metadata": {},
   "outputs": [],
   "source": []
  },
  {
   "cell_type": "code",
   "execution_count": null,
   "metadata": {},
   "outputs": [],
   "source": []
  },
  {
   "cell_type": "code",
   "execution_count": null,
   "metadata": {},
   "outputs": [],
   "source": []
  }
 ],
 "metadata": {
  "kernelspec": {
   "display_name": "Python 3",
   "language": "python",
   "name": "python3"
  },
  "language_info": {
   "codemirror_mode": {
    "name": "ipython",
    "version": 3
   },
   "file_extension": ".py",
   "mimetype": "text/x-python",
   "name": "python",
   "nbconvert_exporter": "python",
   "pygments_lexer": "ipython3",
   "version": "3.6.5"
  }
 },
 "nbformat": 4,
 "nbformat_minor": 2
}
