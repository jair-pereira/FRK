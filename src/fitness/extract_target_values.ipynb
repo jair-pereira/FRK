{
 "cells": [
  {
   "cell_type": "code",
   "execution_count": 5,
   "metadata": {},
   "outputs": [],
   "source": [
    "from __future__ import division, print_function\n",
    "import cocoex, cocopp"
   ]
  },
  {
   "cell_type": "code",
   "execution_count": 2,
   "metadata": {},
   "outputs": [
    {
     "data": {
      "text/plain": [
       "2160"
      ]
     },
     "execution_count": 2,
     "metadata": {},
     "output_type": "execute_result"
    }
   ],
   "source": [
    "suite = cocoex.Suite(\"bbob\", \"\", \"\")\n",
    "d = {}\n",
    "for p in suite:\n",
    "     d[p.id] = p.final_target_fvalue1\n",
    "        \n",
    "len(d)"
   ]
  },
  {
   "cell_type": "code",
   "execution_count": 2,
   "metadata": {},
   "outputs": [],
   "source": [
    "import pickle\n",
    "\n",
    "d = {}\n",
    "file = open(\"bbob_final_target_fvalue1.pkl\", 'a+b')\n",
    "pickle.dump(d, file)\n",
    "file.close()"
   ]
  },
  {
   "cell_type": "code",
   "execution_count": 6,
   "metadata": {},
   "outputs": [
    {
     "name": "stdout",
     "output_type": "stream",
     "text": [
      "79.48000001\n"
     ]
    }
   ],
   "source": [
    "file = open(\"bbob_final_target_fvalue1.pkl\",'rb')  \n",
    "data = pickle.load(file)\n",
    "suite = cocoex.Suite(\"bbob\", \"\", \"function_indices:1 dimensions:2 instance_indices:1\")\n",
    "for problem in suite:\n",
    "    print(data[problem.id])"
   ]
  },
  {
   "cell_type": "code",
   "execution_count": null,
   "metadata": {},
   "outputs": [],
   "source": []
  }
 ],
 "metadata": {
  "kernelspec": {
   "display_name": "Python 3",
   "language": "python",
   "name": "python3"
  },
  "language_info": {
   "codemirror_mode": {
    "name": "ipython",
    "version": 3
   },
   "file_extension": ".py",
   "mimetype": "text/x-python",
   "name": "python",
   "nbconvert_exporter": "python",
   "pygments_lexer": "ipython3",
   "version": "3.7.0"
  }
 },
 "nbformat": 4,
 "nbformat_minor": 2
}
