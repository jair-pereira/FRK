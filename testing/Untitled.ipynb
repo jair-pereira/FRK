{
 "cells": [
  {
   "cell_type": "code",
   "execution_count": 2,
   "metadata": {},
   "outputs": [],
   "source": [
    "import numpy as np\n",
    "import pandas as pd"
   ]
  },
  {
   "cell_type": "code",
   "execution_count": 35,
   "metadata": {},
   "outputs": [
    {
     "data": {
      "text/plain": [
       "{'cs0105': (394.72456359733485, 0.09292901109766155),\n",
       " 'cs0205': (128.27592217994962, 60.480492914103344),\n",
       " 'cs1505': (83.51352320290397, 2.7109879962070056),\n",
       " 'cs1705': (19.462036937021683, 0.22612320423419838)}"
      ]
     },
     "execution_count": 35,
     "metadata": {},
     "output_type": "execute_result"
    }
   ],
   "source": [
    "alg = [\"pso\", \"de\", \"cs\", \"frk\"]\n",
    "d2 = [\"0102\", \"0202\", \"1502\", \"1702\"]\n",
    "d5 = [\"0105\", \"0205\", \"1505\", \"1705\"]\n",
    "\n",
    "\n",
    "results = {}\n",
    "for a in [\"cs\"]:\n",
    "    for i in d5:\n",
    "        tmp = pd.read_csv(\"./\"+a+i+\".txt\", header=None)\n",
    "        \n",
    "#         print(a+i)\n",
    "#         print(tmp[0].mean(), tmp[0].std())\n",
    "#         print()\n",
    "        \n",
    "        results[a+i] = (tmp[0].mean(), tmp[0].std())\n",
    "results"
   ]
  },
  {
   "cell_type": "code",
   "execution_count": 28,
   "metadata": {},
   "outputs": [
    {
     "data": {
      "text/plain": [
       "{'pso0102': (394.48, 0.0),\n",
       " 'pso0202': (-92.08999968591675, 2.2652786823472276e-07),\n",
       " 'pso1502': (70.22899220676155, 0.41951138009605815),\n",
       " 'pso1702': (18.81, 0.0),\n",
       " 'de0102': (394.48818782969255, 0.007563471997308587),\n",
       " 'de0202': (-91.14497644118886, 0.8284547976495987),\n",
       " 'de1502': (70.83750992194427, 0.4888559786827324),\n",
       " 'de1702': (18.928236624308205, 0.05105965790213674),\n",
       " 'cs0102': (394.480060085988, 4.631386746694462e-05),\n",
       " 'cs0202': (-92.05161067747945, 0.03609564831650138),\n",
       " 'cs1502': (70.06855098557773, 0.04027639723756021),\n",
       " 'cs1702': (18.828398185677646, 0.007529833109969909)}"
      ]
     },
     "execution_count": 28,
     "metadata": {},
     "output_type": "execute_result"
    }
   ],
   "source": []
  },
  {
   "cell_type": "code",
   "execution_count": 24,
   "metadata": {},
   "outputs": [
    {
     "data": {
      "text/plain": [
       "18.828398185677646"
      ]
     },
     "execution_count": 24,
     "metadata": {},
     "output_type": "execute_result"
    }
   ],
   "source": []
  },
  {
   "cell_type": "code",
   "execution_count": null,
   "metadata": {},
   "outputs": [],
   "source": []
  },
  {
   "cell_type": "code",
   "execution_count": null,
   "metadata": {},
   "outputs": [],
   "source": []
  }
 ],
 "metadata": {
  "kernelspec": {
   "display_name": "Python 3",
   "language": "python",
   "name": "python3"
  },
  "language_info": {
   "codemirror_mode": {
    "name": "ipython",
    "version": 3
   },
   "file_extension": ".py",
   "mimetype": "text/x-python",
   "name": "python",
   "nbconvert_exporter": "python",
   "pygments_lexer": "ipython3",
   "version": "3.6.5"
  }
 },
 "nbformat": 4,
 "nbformat_minor": 2
}
