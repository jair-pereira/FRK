{
 "cells": [
  {
   "cell_type": "code",
   "execution_count": 2,
   "metadata": {},
   "outputs": [],
   "source": [
    "import numpy as np\n",
    "import pandas as pd"
   ]
  },
  {
   "cell_type": "code",
   "execution_count": 33,
   "metadata": {},
   "outputs": [
    {
     "data": {
      "text/plain": [
       "{'frk0102': (394.48, 0.0),\n",
       " 'frk0202': (-92.07986528923074, 0.032048769447470725),\n",
       " 'frk1502': (70.03, 0.0),\n",
       " 'frk1702': (18.810022948675662, 7.257008438648282e-05)}"
      ]
     },
     "execution_count": 33,
     "metadata": {},
     "output_type": "execute_result"
    }
   ],
   "source": [
    "alg = [\"pso\", \"de\", \"cs\", \"frk\"]\n",
    "d2 = [\"0102\", \"0202\", \"1502\", \"1702\"]\n",
    "d5 = [\"0105\", \"0205\", \"1505\", \"1705\"]\n",
    "\n",
    "\n",
    "results = {}\n",
    "for a in [\"frk\"]:\n",
    "    for i in d2:\n",
    "        tmp = pd.read_csv(\"./\"+a+i+\".txt\", header=None)\n",
    "        \n",
    "#         print(a+i)\n",
    "#         print(tmp[0].mean(), tmp[0].std())\n",
    "#         print()\n",
    "        \n",
    "        results[a+i] = (tmp[0].mean(), tmp[0].std())\n",
    "results"
   ]
  },
  {
   "cell_type": "code",
   "execution_count": 28,
   "metadata": {},
   "outputs": [
    {
     "data": {
      "text/plain": [
       "{'pso0102': (394.48, 0.0),\n",
       " 'pso0202': (-92.08999968591675, 2.2652786823472276e-07),\n",
       " 'pso1502': (70.22899220676155, 0.41951138009605815),\n",
       " 'pso1702': (18.81, 0.0),\n",
       " 'de0102': (394.48818782969255, 0.007563471997308587),\n",
       " 'de0202': (-91.14497644118886, 0.8284547976495987),\n",
       " 'de1502': (70.83750992194427, 0.4888559786827324),\n",
       " 'de1702': (18.928236624308205, 0.05105965790213674),\n",
       " 'cs0102': (394.480060085988, 4.631386746694462e-05),\n",
       " 'cs0202': (-92.05161067747945, 0.03609564831650138),\n",
       " 'cs1502': (70.06855098557773, 0.04027639723756021),\n",
       " 'cs1702': (18.828398185677646, 0.007529833109969909)}"
      ]
     },
     "execution_count": 28,
     "metadata": {},
     "output_type": "execute_result"
    }
   ],
   "source": [
    "{'de0105': 395.64 (0.52)\n",
    " 'de0205': 942.07 (448.82)\n",
    " 'de1505': 104.72 (6.85)\n",
    " 'de1705': 20.14 (0.34)"
   ]
  },
  {
   "cell_type": "code",
   "execution_count": 24,
   "metadata": {},
   "outputs": [
    {
     "data": {
      "text/plain": [
       "18.828398185677646"
      ]
     },
     "execution_count": 24,
     "metadata": {},
     "output_type": "execute_result"
    }
   ],
   "source": []
  },
  {
   "cell_type": "code",
   "execution_count": null,
   "metadata": {},
   "outputs": [],
   "source": []
  },
  {
   "cell_type": "code",
   "execution_count": null,
   "metadata": {},
   "outputs": [],
   "source": []
  }
 ],
 "metadata": {
  "kernelspec": {
   "display_name": "Python 3",
   "language": "python",
   "name": "python3"
  },
  "language_info": {
   "codemirror_mode": {
    "name": "ipython",
    "version": 3
   },
   "file_extension": ".py",
   "mimetype": "text/x-python",
   "name": "python",
   "nbconvert_exporter": "python",
   "pygments_lexer": "ipython3",
   "version": "3.6.6"
  }
 },
 "nbformat": 4,
 "nbformat_minor": 2
}
