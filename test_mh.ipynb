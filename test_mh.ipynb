{
 "cells": [
  {
   "cell_type": "code",
   "execution_count": 1,
   "metadata": {},
   "outputs": [
    {
     "data": {
      "text/plain": [
       "0.581311729448188"
      ]
     },
     "execution_count": 1,
     "metadata": {},
     "output_type": "execute_result"
    }
   ],
   "source": [
    "#using a predefined solver\n",
    "from solvers import *\n",
    "r = pso(n=5, my_func=sum, bounds=(0,1), dimension=3, max_nfe=200, w=0.5, c1=0.1, c2=1.9)\n",
    "r.best.getFitness()"
   ]
  },
  {
   "cell_type": "code",
   "execution_count": 6,
   "metadata": {},
   "outputs": [
    {
     "data": {
      "text/plain": [
       "[1.4004695519225683, 1.788216140746682, 1.9146631215104537]"
      ]
     },
     "execution_count": 6,
     "metadata": {},
     "output_type": "execute_result"
    }
   ],
   "source": [
    "#test with selection\n",
    "from metaheuristic import *\n",
    "import numpy as np\n",
    "\n",
    "## init ##\n",
    "n=3\n",
    "Solution.setProblem(sum, bounds=(0,1), dimension=3, maximize=False)\n",
    "X = Solution.initialize(n)\n",
    "[Xi.setX(op.init_random(*Solution.bounds, Solution.dimension)) for Xi in X]\n",
    "[Xi.getFitness() for Xi in X]"
   ]
  },
  {
   "cell_type": "code",
   "execution_count": 7,
   "metadata": {},
   "outputs": [
    {
     "data": {
      "text/plain": [
       "array([[<metaheuristic.solution.Solution object at 0x000001B25DBA5898>],\n",
       "       [<metaheuristic.solution.Solution object at 0x000001B25DB56438>],\n",
       "       [<metaheuristic.solution.Solution object at 0x000001B25DBA5898>]],\n",
       "      dtype=object)"
      ]
     },
     "execution_count": 7,
     "metadata": {},
     "output_type": "execute_result"
    }
   ],
   "source": [
    "## selection ##\n",
    "S1 = op.select_random(X, 1)\n",
    "S1"
   ]
  },
  {
   "cell_type": "code",
   "execution_count": 8,
   "metadata": {},
   "outputs": [
    {
     "data": {
      "text/plain": [
       "array([[<metaheuristic.solution.Solution object at 0x000001B25DB56438>],\n",
       "       [<metaheuristic.solution.Solution object at 0x000001B25DBA5898>],\n",
       "       [<metaheuristic.solution.Solution object at 0x000001B25DBA58D0>]],\n",
       "      dtype=object)"
      ]
     },
     "execution_count": 8,
     "metadata": {},
     "output_type": "execute_result"
    }
   ],
   "source": [
    "S2 = op.select_current(X)\n",
    "S2"
   ]
  },
  {
   "cell_type": "code",
   "execution_count": 9,
   "metadata": {},
   "outputs": [
    {
     "data": {
      "text/plain": [
       "array([[<metaheuristic.solution.Solution object at 0x000001B25DB56438>],\n",
       "       [<metaheuristic.solution.Solution object at 0x000001B25DBA58D0>],\n",
       "       [<metaheuristic.solution.Solution object at 0x000001B25DBA5898>]],\n",
       "      dtype=object)"
      ]
     },
     "execution_count": 9,
     "metadata": {},
     "output_type": "execute_result"
    }
   ],
   "source": [
    "## random ##\n",
    "np.array([np.random.choice(X, 1, replace=False) for _ in range(len(X))])"
   ]
  },
  {
   "cell_type": "code",
   "execution_count": 13,
   "metadata": {},
   "outputs": [
    {
     "data": {
      "text/plain": [
       "([array([[<metaheuristic.solution.Solution object at 0x000001B25DB56438>],\n",
       "         [<metaheuristic.solution.Solution object at 0x000001B25DBA5898>],\n",
       "         [<metaheuristic.solution.Solution object at 0x000001B25DBA58D0>]],\n",
       "        dtype=object)],\n",
       " array([[<metaheuristic.solution.Solution object at 0x000001B25DBA58D0>],\n",
       "        [<metaheuristic.solution.Solution object at 0x000001B25DBA58D0>],\n",
       "        [<metaheuristic.solution.Solution object at 0x000001B25DBA5898>]],\n",
       "       dtype=object))"
      ]
     },
     "execution_count": 13,
     "metadata": {},
     "output_type": "execute_result"
    }
   ],
   "source": [
    "S = zip(op.select_current(X), op.select_current(X))\n",
    "S = [op.select_current(X)]\n",
    "n=1\n",
    "if S is None:\n",
    "    U = np.array([np.random.choice(X, n, replace=False) for _ in range(len(X))])\n",
    "elif len(S) == 1:\n",
    "    U = np.array([np.random.choice(X[X != s], 1, replace=False) for s in S[0][:,0]])\n",
    "elif len(S) == 2:\n",
    "    U = np.array([np.random.choice(X[[np.logical_and([X != s1], [X != s2])[0]]], 1, replace=False) for s1, s2 in S[:,0]])\n",
    "\n",
    "S, U"
   ]
  },
  {
   "cell_type": "code",
   "execution_count": 19,
   "metadata": {},
   "outputs": [
    {
     "name": "stdout",
     "output_type": "stream",
     "text": [
      "[<metaheuristic.solution.Solution object at 0x000001B25DBA5898>] [<metaheuristic.solution.Solution object at 0x000001B25DB56438>]\n",
      "[<metaheuristic.solution.Solution object at 0x000001B25DB56438>] [<metaheuristic.solution.Solution object at 0x000001B25DBA5898>]\n",
      "[<metaheuristic.solution.Solution object at 0x000001B25DBA5898>] [<metaheuristic.solution.Solution object at 0x000001B25DBA58D0>]\n"
     ]
    }
   ],
   "source": [
    "def select_random(X, S, n=1):\n",
    "    S = [np.random.choice(X, n, replace=False) for _ in range(len(X))]\n",
    "    return np.array(S)"
   ]
  },
  {
   "cell_type": "code",
   "execution_count": 241,
   "metadata": {},
   "outputs": [
    {
     "data": {
      "text/plain": [
       "array([<metaheuristic.solution.Solution object at 0x0000017D761146A0>,\n",
       "       <metaheuristic.solution.Solution object at 0x0000017D76114668>,\n",
       "       <metaheuristic.solution.Solution object at 0x0000017D76114518>],\n",
       "      dtype=object)"
      ]
     },
     "execution_count": 241,
     "metadata": {},
     "output_type": "execute_result"
    }
   ],
   "source": [
    "S = [op.select_current(X)]\n",
    "S[0][:,0]"
   ]
  },
  {
   "cell_type": "code",
   "execution_count": 215,
   "metadata": {},
   "outputs": [
    {
     "name": "stdout",
     "output_type": "stream",
     "text": [
      "[<metaheuristic.solution.Solution object at 0x0000017D76114668>]\n",
      "\n",
      "[<metaheuristic.solution.Solution object at 0x0000017D761146A0>\n",
      " <metaheuristic.solution.Solution object at 0x0000017D76114518>]\n",
      "\n",
      "[<metaheuristic.solution.Solution object at 0x0000017D76114668>]\n",
      "\n"
     ]
    }
   ],
   "source": [
    "for s1, s2 in zip(S2[:,0], S1[:,0]):\n",
    "    print()\n",
    "    print()"
   ]
  },
  {
   "cell_type": "code",
   "execution_count": 217,
   "metadata": {},
   "outputs": [
    {
     "name": "stdout",
     "output_type": "stream",
     "text": [
      "[<metaheuristic.solution.Solution object at 0x0000017D76114518>] [<metaheuristic.solution.Solution object at 0x0000017D761146A0>] <metaheuristic.solution.Solution object at 0x0000017D761146A0> \n",
      "\n",
      "[<metaheuristic.solution.Solution object at 0x0000017D76114668>] [<metaheuristic.solution.Solution object at 0x0000017D76114668>] <metaheuristic.solution.Solution object at 0x0000017D76114668> \n",
      "\n",
      "[<metaheuristic.solution.Solution object at 0x0000017D761146A0>] [<metaheuristic.solution.Solution object at 0x0000017D76114518>] <metaheuristic.solution.Solution object at 0x0000017D76114518> \n",
      "\n"
     ]
    }
   ],
   "source": [
    "for a,b,c in zip(S1, S2, X):\n",
    "    print(a,b,c, \"\\n\")"
   ]
  },
  {
   "cell_type": "code",
   "execution_count": 202,
   "metadata": {},
   "outputs": [
    {
     "data": {
      "text/plain": [
       "(array([[<metaheuristic.solution.Solution object at 0x0000017D76114518>],\n",
       "        [<metaheuristic.solution.Solution object at 0x0000017D76114668>],\n",
       "        [<metaheuristic.solution.Solution object at 0x0000017D761146A0>]],\n",
       "       dtype=object),\n",
       " array([[<metaheuristic.solution.Solution object at 0x0000017D761146A0>],\n",
       "        [<metaheuristic.solution.Solution object at 0x0000017D76114668>],\n",
       "        [<metaheuristic.solution.Solution object at 0x0000017D76114518>]],\n",
       "       dtype=object))"
      ]
     },
     "execution_count": 202,
     "metadata": {},
     "output_type": "execute_result"
    }
   ],
   "source": []
  }
 ],
 "metadata": {
  "kernelspec": {
   "display_name": "Python 3",
   "language": "python",
   "name": "python3"
  },
  "language_info": {
   "codemirror_mode": {
    "name": "ipython",
    "version": 3
   },
   "file_extension": ".py",
   "mimetype": "text/x-python",
   "name": "python",
   "nbconvert_exporter": "python",
   "pygments_lexer": "ipython3",
   "version": "3.6.5"
  }
 },
 "nbformat": 4,
 "nbformat_minor": 2
}
